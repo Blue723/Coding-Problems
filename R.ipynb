{
 "cells": [
  {
   "cell_type": "markdown",
   "id": "b7474d38",
   "metadata": {},
   "source": [
    "## max length difference"
   ]
  },
  {
   "cell_type": "code",
   "execution_count": null,
   "id": "9ed43e6e",
   "metadata": {},
   "outputs": [],
   "source": [
    "mxdiflg <-  function(a1, a2) {\n",
    "    if (length(a1) == 0) return(-1)\n",
    "    if (length(a2) == 0) return(-1)\n",
    "    max(max(nchar(a1))-min(nchar(a2)), max(nchar(a2))-min(nchar(a1)) )\n",
    "}"
   ]
  },
  {
   "cell_type": "code",
   "execution_count": null,
   "id": "37b25580",
   "metadata": {},
   "outputs": [],
   "source": []
  },
  {
   "cell_type": "markdown",
   "id": "2b36b0a3",
   "metadata": {},
   "source": [
    "### remove spaces from a string"
   ]
  },
  {
   "cell_type": "code",
   "execution_count": null,
   "id": "e8fd4f1e",
   "metadata": {},
   "outputs": [],
   "source": [
    "no_space <- function(x){\n",
    "  library(stringr)\n",
    "  str_replace_all(x, ' ', '')\n",
    "}"
   ]
  },
  {
   "cell_type": "markdown",
   "id": "cd3d61dd",
   "metadata": {},
   "source": [
    "set a function set equal to no_space, import library stringr to use str_replace_all"
   ]
  },
  {
   "cell_type": "code",
   "execution_count": null,
   "id": "bc02b30a",
   "metadata": {},
   "outputs": [],
   "source": [
    "no_space <- function(x){\n",
    "  gsub(\" \", \"\", x)\n",
    "}"
   ]
  }
 ],
 "metadata": {
  "kernelspec": {
   "display_name": "Python 3",
   "language": "python",
   "name": "python3"
  },
  "language_info": {
   "codemirror_mode": {
    "name": "ipython",
    "version": 3
   },
   "file_extension": ".py",
   "mimetype": "text/x-python",
   "name": "python",
   "nbconvert_exporter": "python",
   "pygments_lexer": "ipython3",
   "version": "3.8.8"
  }
 },
 "nbformat": 4,
 "nbformat_minor": 5
}
