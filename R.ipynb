{
 "cells": [
  {
   "cell_type": "markdown",
   "id": "b7474d38",
   "metadata": {},
   "source": [
    "## max length difference"
   ]
  },
  {
   "cell_type": "code",
   "execution_count": null,
   "id": "9ed43e6e",
   "metadata": {},
   "outputs": [],
   "source": [
    "mxdiflg <-  function(a1, a2) {\n",
    "    if (length(a1) == 0) return(-1)\n",
    "    if (length(a2) == 0) return(-1)\n",
    "    max(max(nchar(a1))-min(nchar(a2)), max(nchar(a2))-min(nchar(a1)) )\n",
    "}"
   ]
  },
  {
   "cell_type": "code",
   "execution_count": null,
   "id": "281bd5e9",
   "metadata": {},
   "outputs": [],
   "source": []
  },
  {
   "cell_type": "markdown",
   "id": "99999af3",
   "metadata": {},
   "source": [
    "### wil you make it. do you have enough gas to make it back home"
   ]
  },
  {
   "cell_type": "code",
   "execution_count": null,
   "id": "229a90e6",
   "metadata": {},
   "outputs": [],
   "source": [
    "zero_fuel <- function(distance, mpg, fuel_left) {\n",
    "  if(mpg*fuel_left >= distance)\n",
    "    {\n",
    "    TRUE\n",
    "  }else{\n",
    "    FALSE\n",
    "  }\n",
    "}"
   ]
  },
  {
   "cell_type": "code",
   "execution_count": null,
   "id": "cec5e925",
   "metadata": {},
   "outputs": [],
   "source": []
  },
  {
   "cell_type": "markdown",
   "id": "8c784974",
   "metadata": {},
   "source": [
    "### convert number to reversed array of digits"
   ]
  },
  {
   "cell_type": "code",
   "execution_count": null,
   "id": "89b6cbf4",
   "metadata": {},
   "outputs": [],
   "source": [
    "digitize <- function(n) {\n",
    "  out = strsplit(as.character(n), split = \"\")[[1]]\n",
    "  return(as.numeric(rev(out)))\n",
    "}"
   ]
  },
  {
   "cell_type": "markdown",
   "id": "6ed37568",
   "metadata": {},
   "source": [
    "- as.character(): changes the number into a string\n",
    "- strsplit(string, split=' '): splits the string\n",
    "- as.numeric(): changes the item to numbers\n",
    "- rev(): reverse sort"
   ]
  },
  {
   "cell_type": "code",
   "execution_count": null,
   "id": "00cb5936",
   "metadata": {},
   "outputs": [],
   "source": []
  },
  {
   "cell_type": "markdown",
   "id": "c97dc2a6",
   "metadata": {},
   "source": [
    "### convert string to array"
   ]
  },
  {
   "cell_type": "code",
   "execution_count": null,
   "id": "d19111b6",
   "metadata": {},
   "outputs": [],
   "source": [
    "string_to_array <- function(s){\n",
    "  unlist(strsplit(s, \" \"))\n",
    "}"
   ]
  }
 ],
 "metadata": {
  "kernelspec": {
   "display_name": "Python 3",
   "language": "python",
   "name": "python3"
  },
  "language_info": {
   "codemirror_mode": {
    "name": "ipython",
    "version": 3
   },
   "file_extension": ".py",
   "mimetype": "text/x-python",
   "name": "python",
   "nbconvert_exporter": "python",
   "pygments_lexer": "ipython3",
   "version": "3.8.8"
  }
 },
 "nbformat": 4,
 "nbformat_minor": 5
}
