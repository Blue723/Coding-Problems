{
 "cells": [
  {
   "cell_type": "markdown",
   "id": "b7474d38",
   "metadata": {},
   "source": [
    "## max length difference"
   ]
  },
  {
   "cell_type": "code",
   "execution_count": null,
   "id": "9ed43e6e",
   "metadata": {},
   "outputs": [],
   "source": [
    "mxdiflg <-  function(a1, a2) {\n",
    "    if (length(a1) == 0) return(-1)\n",
    "    if (length(a2) == 0) return(-1)\n",
    "    max(max(nchar(a1))-min(nchar(a2)), max(nchar(a2))-min(nchar(a1)) )\n",
    "}"
   ]
  },
  {
   "cell_type": "code",
   "execution_count": null,
   "id": "37b25580",
   "metadata": {},
   "outputs": [],
   "source": []
  },
  {
   "cell_type": "markdown",
   "id": "2b36b0a3",
   "metadata": {},
   "source": [
    "### remove spaces from a string"
   ]
  },
  {
   "cell_type": "code",
   "execution_count": null,
   "id": "e8fd4f1e",
   "metadata": {},
   "outputs": [],
   "source": [
    "no_space <- function(x){\n",
    "  library(stringr)\n",
    "  str_replace_all(x, ' ', '')\n",
    "}"
   ]
  },
  {
   "cell_type": "markdown",
   "id": "cd3d61dd",
   "metadata": {},
   "source": [
    "set a function set equal to no_space, import library stringr to use str_replace_all"
   ]
  },
  {
   "cell_type": "code",
   "execution_count": null,
   "id": "bc02b30a",
   "metadata": {},
   "outputs": [],
   "source": [
    "no_space <- function(x){\n",
    "  gsub(\" \", \"\", x)\n",
    "}"
   ]
  },
  {
   "cell_type": "code",
   "execution_count": null,
   "id": "27f4efba",
   "metadata": {},
   "outputs": [],
   "source": []
  },
  {
   "cell_type": "code",
   "execution_count": null,
   "id": "617e118d",
   "metadata": {},
   "outputs": [],
   "source": [
    "### automorphic"
   ]
  },
  {
   "cell_type": "code",
   "execution_count": null,
   "id": "a7340036",
   "metadata": {},
   "outputs": [],
   "source": [
    "#wrong answer\n",
    "automorphic <- function(n) {\n",
    "  # provide your solution here\n",
    "  str_n = as.character(n*n)\n",
    "  \n",
    "  str_list = list()\n",
    "  \n",
    "  for (x in strsplit(str_n, '')){\n",
    "    append(str_list, x)\n",
    "  }\n",
    "  \n",
    "  if (str_list[-1] == n){\n",
    "    print('Automorphic')\n",
    "}else{\n",
    "    print('Not!!')\n",
    "}\n",
    "}\n",
    "\n",
    "#correct answer\n",
    "automorphic <- function(n) {\n",
    "  ifelse(endsWith(toString(n * n), toString(n)), \"Automorphic\", \"Not!!\")\n",
    "}\n",
    "#also\n",
    "automorphic <- function(n) {\n",
    "  n_is_automorphic <- grepl(paste0(n, \"$\"), as.character(n^2))\n",
    "  if (n_is_automorphic) \"Automorphic\" else \"Not!!\"\n",
    "}\n"
   ]
  },
  {
   "cell_type": "code",
   "execution_count": null,
   "id": "a2842202",
   "metadata": {},
   "outputs": [],
   "source": []
  },
  {
   "cell_type": "markdown",
   "id": "eb19458c",
   "metadata": {},
   "source": [
    "### cat and dog years"
   ]
  },
  {
   "cell_type": "code",
   "execution_count": null,
   "id": "46d088e4",
   "metadata": {},
   "outputs": [],
   "source": [
    "human_years_cat_years_dog_years <- function(human_years){\n",
    "  \n",
    "  cat_years=1\n",
    "  dog_years=1\n",
    "  \n",
    "  if (human_years == 1){\n",
    "    dog_years = human_years + 15\n",
    "    cat_years = human_years + 15\n",
    "  } else if(human_years == 2){\n",
    "    dog_years = dog_years + 9\n",
    "    cat_years = cat_years + 9\n",
    "  } else {\n",
    "    dog_years = dog_years + 4\n",
    "    cat_years = cat_years + 4\n",
    "  }\n",
    "    return ([human_years, cat_years, dog_years])\n",
    "}"
   ]
  },
  {
   "cell_type": "code",
   "execution_count": null,
   "id": "3f550936",
   "metadata": {},
   "outputs": [],
   "source": [
    "\n",
    "human_years_cat_years_dog_years <- function(human_years){\n",
    "  c(human_years, 15 + (human_years >= 2) * (9 + 4 * (human_years - 2)), 15 + (human_years >= 2) * (9 + 5 * (human_years - 2)))\n",
    "}"
   ]
  },
  {
   "cell_type": "code",
   "execution_count": null,
   "id": "67f5f2f0",
   "metadata": {},
   "outputs": [],
   "source": []
  },
  {
   "cell_type": "markdown",
   "id": "c1defe8c",
   "metadata": {},
   "source": [
    "### return negative\n"
   ]
  },
  {
   "cell_type": "code",
   "execution_count": null,
   "id": "e8f02a6a",
   "metadata": {},
   "outputs": [],
   "source": [
    "make_negative <- function(num) -abs(num)"
   ]
  },
  {
   "cell_type": "code",
   "execution_count": null,
   "id": "d92aaa4e",
   "metadata": {},
   "outputs": [],
   "source": []
  },
  {
   "cell_type": "markdown",
   "id": "20ea701e",
   "metadata": {},
   "source": [
    "### return numeric"
   ]
  },
  {
   "cell_type": "code",
   "execution_count": null,
   "id": "7891445a",
   "metadata": {},
   "outputs": [],
   "source": [
    "string_to_number <- function(x){\n",
    "  return(as.numeric(x))\n",
    "}"
   ]
  },
  {
   "cell_type": "code",
   "execution_count": null,
   "id": "e71199b1",
   "metadata": {},
   "outputs": [],
   "source": [
    "string_to_number <- function(x){\n",
    "  strtoi(x)\n",
    "}"
   ]
  }
 ],
 "metadata": {
  "kernelspec": {
   "display_name": "Python 3",
   "language": "python",
   "name": "python3"
  },
  "language_info": {
   "codemirror_mode": {
    "name": "ipython",
    "version": 3
   },
   "file_extension": ".py",
   "mimetype": "text/x-python",
   "name": "python",
   "nbconvert_exporter": "python",
   "pygments_lexer": "ipython3",
   "version": "3.8.8"
  }
 },
 "nbformat": 4,
 "nbformat_minor": 5
}
