{
 "cells": [
  {
   "cell_type": "markdown",
   "id": "34da0c3d",
   "metadata": {},
   "source": [
    "# README"
   ]
  },
  {
   "cell_type": "markdown",
   "id": "fa207162",
   "metadata": {},
   "source": [
    "These are some puzzles I come across on code wars. Might be some other sites added in the future. I am interested in data science so the languages the puzzles are in are eith Python, R, or SQL. I will be doing different type sof puzzles. I have no structure or order I want to do them in. "
   ]
  },
  {
   "cell_type": "markdown",
   "id": "33e834df",
   "metadata": {},
   "source": [
    "Attempting and generally just thinking of manipulating data will improve me coding skills. I see many solutions for each problem, so that tells me there are many ways to solve a problem, but some are technically better. "
   ]
  }
 ],
 "metadata": {
  "kernelspec": {
   "display_name": "Python 3",
   "language": "python",
   "name": "python3"
  },
  "language_info": {
   "codemirror_mode": {
    "name": "ipython",
    "version": 3
   },
   "file_extension": ".py",
   "mimetype": "text/x-python",
   "name": "python",
   "nbconvert_exporter": "python",
   "pygments_lexer": "ipython3",
   "version": "3.8.8"
  }
 },
 "nbformat": 4,
 "nbformat_minor": 5
}
