{
 "cells": [
  {
   "cell_type": "code",
   "execution_count": 3,
   "id": "ec1554ed",
   "metadata": {},
   "outputs": [],
   "source": [
    "import sqlite3"
   ]
  },
  {
   "cell_type": "markdown",
   "id": "a0b0fbe1",
   "metadata": {},
   "source": [
    "### sum of internal anles"
   ]
  },
  {
   "cell_type": "code",
   "execution_count": null,
   "id": "89f45299",
   "metadata": {},
   "outputs": [],
   "source": [
    "#internal angle equation\n",
    "select (n-2)*180 as res from angle"
   ]
  },
  {
   "cell_type": "code",
   "execution_count": null,
   "id": "cd4ec070",
   "metadata": {},
   "outputs": [],
   "source": []
  },
  {
   "cell_type": "markdown",
   "id": "aa811755",
   "metadata": {},
   "source": [
    "### maximum multiple"
   ]
  },
  {
   "cell_type": "code",
   "execution_count": null,
   "id": "5362286f",
   "metadata": {},
   "outputs": [],
   "source": [
    "# bound minus the moduole to find the maximum multiple of the divisor\n",
    "select bound - (bound%divisor) as res from max_multiple"
   ]
  },
  {
   "cell_type": "code",
   "execution_count": null,
   "id": "d8b26475",
   "metadata": {},
   "outputs": [],
   "source": []
  },
  {
   "cell_type": "markdown",
   "id": "3d32c20d",
   "metadata": {},
   "source": [
    "### total wins"
   ]
  },
  {
   "cell_type": "code",
   "execution_count": null,
   "id": "c73a7f34",
   "metadata": {},
   "outputs": [],
   "source": [
    "SELECT name, sum(won) as won, sum(lost) as lost FROM fighters\n",
    "INNER JOIN winning_moves ON fighters.move_id=winning_moves.id\n",
    "WHERE NOT move IN ('Hadoken', 'Shouoken', 'Kikoken')\n",
    "GROUP BY name\n",
    "ORDER by won DESC\n",
    "LIMIT 6;"
   ]
  },
  {
   "cell_type": "code",
   "execution_count": null,
   "id": "2b277dcc",
   "metadata": {},
   "outputs": [],
   "source": [
    "#select name, sum the win column with alias won, sum lost columns with\n",
    "#alias lost from the table fighters\n",
    "\n",
    "#join winning moves table on where fighters move id and winning moves\n",
    "\n",
    "#where not move in restricted moves\n",
    "\n",
    "#groupby name\n",
    "#order by most wins\n",
    "#return top 6 with limit\n"
   ]
  },
  {
   "cell_type": "code",
   "execution_count": null,
   "id": "df0c9808",
   "metadata": {},
   "outputs": [],
   "source": []
  },
  {
   "cell_type": "markdown",
   "id": "88aac192",
   "metadata": {},
   "source": [
    "### find strings in a table"
   ]
  },
  {
   "cell_type": "code",
   "execution_count": null,
   "id": "b582b39d",
   "metadata": {},
   "outputs": [],
   "source": [
    "SELECT INITCAP(firstname || ' ' || lastname) AS shortlist\n",
    "FROM elves\n",
    "WHERE firstname LIKE '%tegil%' OR lastname LIKE '%astar%'"
   ]
  }
 ],
 "metadata": {
  "kernelspec": {
   "display_name": "Python 3",
   "language": "python",
   "name": "python3"
  },
  "language_info": {
   "codemirror_mode": {
    "name": "ipython",
    "version": 3
   },
   "file_extension": ".py",
   "mimetype": "text/x-python",
   "name": "python",
   "nbconvert_exporter": "python",
   "pygments_lexer": "ipython3",
   "version": "3.8.8"
  }
 },
 "nbformat": 4,
 "nbformat_minor": 5
}
