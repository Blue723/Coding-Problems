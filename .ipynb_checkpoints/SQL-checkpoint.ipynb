{
 "cells": [
  {
   "cell_type": "code",
   "execution_count": 3,
   "id": "ec1554ed",
   "metadata": {},
   "outputs": [],
   "source": [
    "import sqlite3"
   ]
  },
  {
   "cell_type": "markdown",
   "id": "a0b0fbe1",
   "metadata": {},
   "source": [
    "### sum of internal anles"
   ]
  },
  {
   "cell_type": "code",
   "execution_count": null,
   "id": "89f45299",
   "metadata": {},
   "outputs": [],
   "source": [
    "#internal angle equation\n",
    "select (n-2)*180 as res from angle"
   ]
  },
  {
   "cell_type": "code",
   "execution_count": null,
   "id": "cd4ec070",
   "metadata": {},
   "outputs": [],
   "source": []
  },
  {
   "cell_type": "markdown",
   "id": "aa811755",
   "metadata": {},
   "source": [
    "### maximum multiple"
   ]
  },
  {
   "cell_type": "code",
   "execution_count": null,
   "id": "5362286f",
   "metadata": {},
   "outputs": [],
   "source": [
    "# bound minus the moduole to find the maximum multiple of the divisor\n",
    "select bound - (bound%divisor) as res from max_multiple"
   ]
  },
  {
   "cell_type": "code",
   "execution_count": null,
   "id": "d8b26475",
   "metadata": {},
   "outputs": [],
   "source": []
  },
  {
   "cell_type": "markdown",
   "id": "3d32c20d",
   "metadata": {},
   "source": [
    "### total wins"
   ]
  },
  {
   "cell_type": "code",
   "execution_count": null,
   "id": "c73a7f34",
   "metadata": {},
   "outputs": [],
   "source": [
    "SELECT name, sum(won) as won, sum(lost) as lost FROM fighters\n",
    "INNER JOIN winning_moves ON fighters.move_id=winning_moves.id\n",
    "WHERE NOT move IN ('Hadoken', 'Shouoken', 'Kikoken')\n",
    "GROUP BY name\n",
    "ORDER by won DESC\n",
    "LIMIT 6;"
   ]
  },
  {
   "cell_type": "code",
   "execution_count": null,
   "id": "2b277dcc",
   "metadata": {},
   "outputs": [],
   "source": [
    "#select name, sum the win column with alias won, sum lost columns with\n",
    "#alias lost from the table fighters\n",
    "\n",
    "#join winning moves table on where fighters move id and winning moves\n",
    "\n",
    "#where not move in restricted moves\n",
    "\n",
    "#groupby name\n",
    "#order by most wins\n",
    "#return top 6 with limit\n",
    "\n",
    "6"
   ]
  },
  {
   "cell_type": "markdown",
   "id": "c6b3b662",
   "metadata": {},
   "source": [
    "### select x and y\n",
    " "
   ]
  },
  {
   "cell_type": "code",
   "execution_count": null,
   "id": "bfd6cfd5",
   "metadata": {},
   "outputs": [],
   "source": [
    "select id, (n % x = 0 AND n % y = 0) as res\n",
    "FROM kata"
   ]
  },
  {
   "cell_type": "markdown",
   "id": "dfc29ac7",
   "metadata": {},
   "source": [
    "select id and select where n is divisible by x and y represented as res from kata table"
   ]
  },
  {
   "cell_type": "code",
   "execution_count": null,
   "id": "031d8a27",
   "metadata": {},
   "outputs": [],
   "source": []
  },
  {
   "cell_type": "code",
   "execution_count": null,
   "id": "be369486",
   "metadata": {},
   "outputs": [],
   "source": []
  },
  {
   "cell_type": "markdown",
   "id": "c00c73e2",
   "metadata": {},
   "source": [
    "#sum odd numbers"
   ]
  },
  {
   "cell_type": "code",
   "execution_count": null,
   "id": "90ef2f15",
   "metadata": {},
   "outputs": [],
   "source": [
    "SELECT POWER(n, 3)::int as res from nums;"
   ]
  },
  {
   "cell_type": "code",
   "execution_count": null,
   "id": "bc77d38a",
   "metadata": {},
   "outputs": [],
   "source": [
    "select n * n * n as res from nums"
   ]
  },
  {
   "cell_type": "code",
   "execution_count": null,
   "id": "fe60e6c5",
   "metadata": {},
   "outputs": [],
   "source": []
  },
  {
   "cell_type": "markdown",
   "id": "973e31d2",
   "metadata": {},
   "source": [
    "### opposite number"
   ]
  },
  {
   "cell_type": "code",
   "execution_count": null,
   "id": "134e70d8",
   "metadata": {},
   "outputs": [],
   "source": [
    "select number*-1 as res from opposite"
   ]
  },
  {
   "cell_type": "code",
   "execution_count": null,
   "id": "b22ff030",
   "metadata": {},
   "outputs": [],
   "source": []
  },
  {
   "cell_type": "markdown",
   "id": "565c52e4",
   "metadata": {},
   "source": [
    "### first and last ip in a network"
   ]
  },
  {
   "cell_type": "code",
   "execution_count": null,
   "id": "60c4cfc8",
   "metadata": {},
   "outputs": [],
   "source": [
    "SELECT\n",
    "  id,\n",
    "  network(ip_address) as first_address,\n",
    "  broadcast(ip_address) AS last_address\n",
    "FROM connections\n",
    "ORDER BY id;"
   ]
  },
  {
   "cell_type": "code",
   "execution_count": null,
   "id": "a11339ae",
   "metadata": {},
   "outputs": [],
   "source": []
  },
  {
   "cell_type": "markdown",
   "id": "82ba206a",
   "metadata": {},
   "source": [
    "### grasshopper"
   ]
  },
  {
   "cell_type": "code",
   "execution_count": null,
   "id": "75238378",
   "metadata": {},
   "outputs": [],
   "source": [
    "#sum columns as res from goals table\n",
    "SELECT (la_liga_goals + copa_del_rey_goals + champions_league_Goals) as res\n",
    "  FROM goals;"
   ]
  },
  {
   "cell_type": "code",
   "execution_count": null,
   "id": "a4ec7c02",
   "metadata": {},
   "outputs": [],
   "source": []
  },
  {
   "cell_type": "markdown",
   "id": "dc4fa7de",
   "metadata": {},
   "source": [
    "### Countries Capital for Trivia Night\n",
    "Schema of the countries table:\n",
    "\n",
    "country (String)\n",
    "capital (String)\n",
    "continent (String)\n",
    "The first question: from the African countries that start with the character E, get the names of their capitals ordered alphabetically.\n",
    "\n",
    "You should only give the names of the capitals. Any additional information is just noise\n",
    "If you get more than 3, you will be kicked out, for being too smart\n",
    "Also, this database is crowd-sourced, so sometimes Africa is written Africa and in other times Afrika."
   ]
  },
  {
   "cell_type": "code",
   "execution_count": null,
   "id": "828c6bcd",
   "metadata": {},
   "outputs": [],
   "source": [
    "SELECT capital \n",
    "FROM countries \n",
    "WHERE continent IN ('Africa', 'Afrika') \n",
    "  AND country LIKE 'E%' \n",
    "ORDER BY capital \n",
    "LIMIT 3"
   ]
  },
  {
   "cell_type": "code",
   "execution_count": null,
   "id": "e99b01b3",
   "metadata": {},
   "outputs": [],
   "source": []
  },
  {
   "cell_type": "markdown",
   "id": "092235b1",
   "metadata": {},
   "source": [
    "### square root and log columns"
   ]
  },
  {
   "cell_type": "code",
   "execution_count": null,
   "id": "0fc6f098",
   "metadata": {},
   "outputs": [],
   "source": []
  },
  {
   "cell_type": "code",
   "execution_count": null,
   "id": "2284a6c8",
   "metadata": {},
   "outputs": [],
   "source": []
  }
 ],
 "metadata": {
  "kernelspec": {
   "display_name": "Python 3",
   "language": "python",
   "name": "python3"
  },
  "language_info": {
   "codemirror_mode": {
    "name": "ipython",
    "version": 3
   },
   "file_extension": ".py",
   "mimetype": "text/x-python",
   "name": "python",
   "nbconvert_exporter": "python",
   "pygments_lexer": "ipython3",
   "version": "3.8.8"
  }
 },
 "nbformat": 4,
 "nbformat_minor": 5
}
