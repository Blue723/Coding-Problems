{
 "cells": [
  {
   "cell_type": "code",
   "execution_count": 1,
   "id": "df91f9ad",
   "metadata": {},
   "outputs": [],
   "source": [
    "import pandas as pd\n",
    "import numpy as np\n",
    "import re"
   ]
  },
  {
   "cell_type": "markdown",
   "id": "97a18ffa",
   "metadata": {},
   "source": [
    "## Space between camel cases"
   ]
  },
  {
   "cell_type": "code",
   "execution_count": 2,
   "id": "8d293152",
   "metadata": {},
   "outputs": [],
   "source": [
    "def solution(s):\n",
    "    return re.sub(\"[A-Z]+\", lambda ele: \" \" + ele[0], s)"
   ]
  },
  {
   "cell_type": "code",
   "execution_count": 3,
   "id": "094d3565",
   "metadata": {},
   "outputs": [
    {
     "data": {
      "text/plain": [
       "'hello There'"
      ]
     },
     "execution_count": 3,
     "metadata": {},
     "output_type": "execute_result"
    }
   ],
   "source": [
    "s='helloThere'\n",
    "solution(s)"
   ]
  },
  {
   "cell_type": "code",
   "execution_count": 4,
   "id": "83c73ab9",
   "metadata": {},
   "outputs": [],
   "source": [
    "def solution(s):\n",
    "    return re.sub('([A-Z])', r' \\1', s)"
   ]
  },
  {
   "cell_type": "markdown",
   "id": "28fa49aa",
   "metadata": {},
   "source": [
    "### weird case"
   ]
  },
  {
   "cell_type": "markdown",
   "id": "1b5fa095",
   "metadata": {},
   "source": [
    "Write a function toWeirdCase (weirdcase in Ruby) that accepts a string, and returns the same string with all even indexed characters in each word upper cased, and all odd indexed characters in each word lower cased. The indexing just explained is zero based, so the zero-ith index is even, therefore that character should be upper cased and you need to start over for each word.\n",
    "\n",
    "The passed in string will only consist of alphabetical characters and spaces(' '). Spaces will only be present if there are multiple words. Words will be separated by a single space(' ')."
   ]
  },
  {
   "cell_type": "code",
   "execution_count": 5,
   "id": "f49ee5e6",
   "metadata": {},
   "outputs": [],
   "source": [
    "def to_weird_case(string):\n",
    "    result = []\n",
    "    for i in re.split('\\s',string):\n",
    "        s = ' '\n",
    "        for idx, j in enumerate(i):\n",
    "            if idx%2 ==0:\n",
    "                result += j.upper()\n",
    "            else:\n",
    "                result += j.lower()\n",
    "        result.append(s)\n",
    "    ''.join(result)"
   ]
  },
  {
   "cell_type": "code",
   "execution_count": 6,
   "id": "fe231368",
   "metadata": {},
   "outputs": [
    {
     "data": {
      "text/plain": [
       "'HeLlO ThErE GoVnA'"
      ]
     },
     "execution_count": 6,
     "metadata": {},
     "output_type": "execute_result"
    }
   ],
   "source": [
    "string = 'hello there govna'\n",
    "\n",
    "r = []\n",
    "\n",
    "for i in re.split('\\s',string):\n",
    "    s = ' '\n",
    "    for idx, j in enumerate(i):\n",
    "        if idx%2 ==0:\n",
    "            r += j.upper()\n",
    "        else:\n",
    "            r += j.lower()\n",
    "    r.append(s)\n",
    "''.join(r).strip()\n",
    "#r= re.split('\\s',''.join(r))\n"
   ]
  },
  {
   "cell_type": "code",
   "execution_count": null,
   "id": "294f5129",
   "metadata": {},
   "outputs": [],
   "source": []
  },
  {
   "cell_type": "code",
   "execution_count": 7,
   "id": "823a0342",
   "metadata": {},
   "outputs": [],
   "source": [
    "### merge arrays"
   ]
  },
  {
   "cell_type": "code",
   "execution_count": 8,
   "id": "91f01b3d",
   "metadata": {},
   "outputs": [],
   "source": [
    "def merge_arrays(arr1, arr2):\n",
    "    return sorted(set(arr1+arr2))"
   ]
  },
  {
   "cell_type": "code",
   "execution_count": null,
   "id": "cd25eb0e",
   "metadata": {},
   "outputs": [],
   "source": []
  },
  {
   "cell_type": "code",
   "execution_count": 9,
   "id": "f6dff205",
   "metadata": {},
   "outputs": [],
   "source": [
    "### gravity flip"
   ]
  },
  {
   "cell_type": "code",
   "execution_count": 10,
   "id": "72e5cfbe",
   "metadata": {},
   "outputs": [],
   "source": [
    "def flip(d, a):\n",
    "    if d == 'R':\n",
    "        return sorted(a)\n",
    "    else:\n",
    "        return sorted(a, reverse=True)"
   ]
  },
  {
   "cell_type": "code",
   "execution_count": 11,
   "id": "1fb76166",
   "metadata": {},
   "outputs": [],
   "source": [
    "def flip(d,a):\n",
    "    return sorted(a, reverse=d=='L')"
   ]
  },
  {
   "cell_type": "code",
   "execution_count": null,
   "id": "10fdce76",
   "metadata": {},
   "outputs": [],
   "source": []
  },
  {
   "cell_type": "code",
   "execution_count": 12,
   "id": "4a8ef103",
   "metadata": {},
   "outputs": [],
   "source": [
    "### aspect ratio cropping"
   ]
  },
  {
   "cell_type": "code",
   "execution_count": 13,
   "id": "11fa3c04",
   "metadata": {},
   "outputs": [],
   "source": [
    "from typing import Tuple\n",
    "from math import ceil\n",
    "\n",
    "def aspect_ratio(x: int, y: int) -> Tuple[int, int]:\n",
    "    return (ceil(y * 16 / 9), y)"
   ]
  },
  {
   "cell_type": "code",
   "execution_count": 14,
   "id": "bbbbf2c8",
   "metadata": {},
   "outputs": [
    {
     "ename": "SyntaxError",
     "evalue": "invalid syntax (<ipython-input-14-b82982b8bfba>, line 2)",
     "output_type": "error",
     "traceback": [
      "\u001b[1;36m  File \u001b[1;32m\"<ipython-input-14-b82982b8bfba>\"\u001b[1;36m, line \u001b[1;32m2\u001b[0m\n\u001b[1;33m    return if n > 0 & n % 2 == 1\u001b[0m\n\u001b[1;37m           ^\u001b[0m\n\u001b[1;31mSyntaxError\u001b[0m\u001b[1;31m:\u001b[0m invalid syntax\n"
     ]
    }
   ],
   "source": [
    "def odd_count(n):\n",
    "    return if n > 0 & n % 2 == 1"
   ]
  },
  {
   "cell_type": "code",
   "execution_count": null,
   "id": "acf06cec",
   "metadata": {},
   "outputs": [],
   "source": [
    "odd_count(3)"
   ]
  },
  {
   "cell_type": "code",
   "execution_count": null,
   "id": "231794c6",
   "metadata": {},
   "outputs": [],
   "source": [
    "import re\n",
    "def smash(words):\n",
    "    return ' '.join(words)"
   ]
  },
  {
   "cell_type": "code",
   "execution_count": null,
   "id": "832fd299",
   "metadata": {},
   "outputs": [],
   "source": [
    "words = ['hello', 'world', 'this', 'is', 'great']\n",
    "smash(words)"
   ]
  },
  {
   "cell_type": "code",
   "execution_count": null,
   "id": "61c67f09",
   "metadata": {},
   "outputs": [],
   "source": []
  },
  {
   "cell_type": "code",
   "execution_count": null,
   "id": "8d771993",
   "metadata": {},
   "outputs": [],
   "source": []
  },
  {
   "cell_type": "code",
   "execution_count": null,
   "id": "0ddebd48",
   "metadata": {},
   "outputs": [],
   "source": []
  },
  {
   "cell_type": "code",
   "execution_count": null,
   "id": "04922a3e",
   "metadata": {},
   "outputs": [],
   "source": [
    "par = '(hi)()()'"
   ]
  },
  {
   "cell_type": "code",
   "execution_count": null,
   "id": "d1bd6122",
   "metadata": {},
   "outputs": [],
   "source": [
    "a = 0\n",
    "for s in string:\n",
    "    if s == '(':\n",
    "        a += 1\n",
    "    elif s == ')':\n",
    "        a += -1\n",
    "    else:\n",
    "        0\n",
    "        \n",
    "bool(a)"
   ]
  },
  {
   "cell_type": "code",
   "execution_count": null,
   "id": "dd4a533c",
   "metadata": {},
   "outputs": [],
   "source": [
    "def vp(string):\n",
    "    a = 0\n",
    "    for s in string:\n",
    "        if s == '(':\n",
    "            a += 1\n",
    "        elif s == ')':\n",
    "            a += -1\n",
    "        else:\n",
    "            0\n",
    "\n",
    "    if a == 0:\n",
    "        return True\n",
    "    else:\n",
    "        return False"
   ]
  },
  {
   "cell_type": "code",
   "execution_count": null,
   "id": "e70d1185",
   "metadata": {},
   "outputs": [],
   "source": [
    "vp(par)"
   ]
  },
  {
   "cell_type": "code",
   "execution_count": null,
   "id": "583f65c4",
   "metadata": {},
   "outputs": [],
   "source": [
    "#### find slope"
   ]
  },
  {
   "cell_type": "code",
   "execution_count": null,
   "id": "c72982d0",
   "metadata": {},
   "outputs": [],
   "source": [
    "def find_slope(points):\n",
    "    try:\n",
    "        return str((points[3]-points[1])/(points[2]-points[0]))\n",
    "    except ZeroDivisionError:\n",
    "        return \"undefined\""
   ]
  },
  {
   "cell_type": "code",
   "execution_count": null,
   "id": "97235950",
   "metadata": {},
   "outputs": [],
   "source": []
  },
  {
   "cell_type": "code",
   "execution_count": null,
   "id": "819b6322",
   "metadata": {},
   "outputs": [],
   "source": []
  },
  {
   "cell_type": "code",
   "execution_count": null,
   "id": "d321d02f",
   "metadata": {},
   "outputs": [],
   "source": [
    "#largets square in a cirlce"
   ]
  },
  {
   "cell_type": "code",
   "execution_count": null,
   "id": "ca931840",
   "metadata": {},
   "outputs": [],
   "source": [
    "def area_largest_square(r):\n",
    "    return (r**2)*2"
   ]
  },
  {
   "cell_type": "code",
   "execution_count": null,
   "id": "ef062835",
   "metadata": {},
   "outputs": [],
   "source": []
  },
  {
   "cell_type": "code",
   "execution_count": null,
   "id": "de1b9c59",
   "metadata": {},
   "outputs": [],
   "source": [
    "### boxlines"
   ]
  },
  {
   "cell_type": "code",
   "execution_count": null,
   "id": "d6f56998",
   "metadata": {},
   "outputs": [],
   "source": [
    "def f(a,b,c):\n",
    "    return 3 * (a*b*c) + 2 * (a*b + b*c + a*c) + a+b+c"
   ]
  },
  {
   "cell_type": "code",
   "execution_count": null,
   "id": "1d0e9772",
   "metadata": {},
   "outputs": [],
   "source": []
  },
  {
   "cell_type": "code",
   "execution_count": null,
   "id": "d5cd6d2b",
   "metadata": {},
   "outputs": [],
   "source": [
    "### how green is my valley"
   ]
  },
  {
   "cell_type": "code",
   "execution_count": null,
   "id": "ad0ce9b3",
   "metadata": {},
   "outputs": [],
   "source": [
    "arr=[17, 17, 15, 14, 8, 7, 7, 5, 4, 4, 1]"
   ]
  },
  {
   "cell_type": "code",
   "execution_count": null,
   "id": "48cbe76d",
   "metadata": {},
   "outputs": [],
   "source": [
    "def make_valley(arr):\n",
    "    a = sorted(arr)\n",
    "    l_idx, r_idx = (1, 0) if len(a) % 2 == 0 else (0, 1)\n",
    "    right = a[r_idx::2]\n",
    "    left = a[l_idx::2][::-1] #how to reverse a list\n",
    "    left.extend(right)\n",
    "    return left"
   ]
  },
  {
   "cell_type": "code",
   "execution_count": null,
   "id": "d173d841",
   "metadata": {},
   "outputs": [],
   "source": [
    "make_valley(arr)"
   ]
  },
  {
   "cell_type": "code",
   "execution_count": null,
   "id": "94866f6e",
   "metadata": {},
   "outputs": [],
   "source": []
  },
  {
   "cell_type": "markdown",
   "id": "463b23e2",
   "metadata": {},
   "source": [
    "### make dead fish swim"
   ]
  },
  {
   "cell_type": "code",
   "execution_count": null,
   "id": "2ebbd0f3",
   "metadata": {},
   "outputs": [],
   "source": [
    "Write a simple parser that will parse and run Deadfish.\n",
    "\n",
    "Deadfish has 4 commands, each 1 character long:\n",
    "\n",
    "i increments the value (initially 0)\n",
    "d decrements the value\n",
    "s squares the value\n",
    "o outputs the value into the return array\n",
    "Invalid characters should be ignored."
   ]
  },
  {
   "cell_type": "code",
   "execution_count": 65,
   "id": "b572d5d5",
   "metadata": {},
   "outputs": [],
   "source": [
    "def parse(data):\n",
    "    # TODO: your code here\n",
    "    \n",
    "    output = []\n",
    "    number = 0\n",
    "    \n",
    "    for c in data:\n",
    "        if c == 's':\n",
    "            number = number**2\n",
    "        elif c == 'i':\n",
    "            number+=1\n",
    "        elif c == 'd':\n",
    "            number-=1\n",
    "        elif c == 'o':\n",
    "            output.append(number)\n",
    "    \n",
    "    \n",
    "    \n",
    "    return output"
   ]
  },
  {
   "cell_type": "code",
   "execution_count": 72,
   "id": "da7be842",
   "metadata": {},
   "outputs": [],
   "source": [
    "data = 'iisddoisddiisiodddiisio'"
   ]
  },
  {
   "cell_type": "code",
   "execution_count": 73,
   "id": "b1169d9a",
   "metadata": {},
   "outputs": [
    {
     "data": {
      "text/plain": [
       "[2, 82, 6562]"
      ]
     },
     "execution_count": 73,
     "metadata": {},
     "output_type": "execute_result"
    }
   ],
   "source": [
    "parse(data)"
   ]
  },
  {
   "cell_type": "code",
   "execution_count": 74,
   "id": "b882d6a8",
   "metadata": {},
   "outputs": [],
   "source": [
    "def parse(data):\n",
    "    value = 0\n",
    "    res=[]\n",
    "    for c in data:\n",
    "        if c==\"i\": value+=1\n",
    "        elif c==\"d\": value-=1\n",
    "        elif c==\"s\": value*=value\n",
    "        elif c==\"o\": res.append(value)\n",
    "    return res"
   ]
  },
  {
   "cell_type": "code",
   "execution_count": null,
   "id": "796842e1",
   "metadata": {},
   "outputs": [],
   "source": []
  },
  {
   "cell_type": "markdown",
   "id": "4c75fa0d",
   "metadata": {},
   "source": [
    "#### hastag generator"
   ]
  },
  {
   "cell_type": "markdown",
   "id": "8346f9f7",
   "metadata": {},
   "source": [
    "The marketing team is spending way too much time typing in hashtags.\n",
    "Let's help them with our own Hashtag Generator!\n",
    "\n",
    "Here's the deal:\n",
    "\n",
    "It must start with a hashtag (#).\n",
    "All words must have their first letter capitalized.\n",
    "If the final result is longer than 140 chars it must return false.\n",
    "If the input or the result is an empty string it must return false."
   ]
  },
  {
   "cell_type": "code",
   "execution_count": null,
   "id": "3f8b1e10",
   "metadata": {},
   "outputs": [],
   "source": []
  },
  {
   "cell_type": "code",
   "execution_count": 73,
   "id": "0523c2ac",
   "metadata": {},
   "outputs": [],
   "source": [
    "import re\n",
    "def generate_hashtag(s):\n",
    "    \n",
    "    if len(s)>140 or len(s)<=0:\n",
    "        return False\n",
    "    \n",
    "    q = []\n",
    "    for a in re.split(' ', s):\n",
    "        b = a.capitalize()\n",
    "        q.append(b)\n",
    "    return '#{}'.format(''.join(q))"
   ]
  },
  {
   "cell_type": "code",
   "execution_count": null,
   "id": "292fcdbd",
   "metadata": {},
   "outputs": [],
   "source": [
    "def generate_hashtag(s):\n",
    "    output = \"#\"\n",
    "    \n",
    "    for word in s.split():\n",
    "        output += word.capitalize()\n",
    "    \n",
    "    return False if (len(s) == 0 or len(output) > 140) else output"
   ]
  },
  {
   "cell_type": "code",
   "execution_count": null,
   "id": "472c7bef",
   "metadata": {},
   "outputs": [],
   "source": []
  },
  {
   "cell_type": "code",
   "execution_count": null,
   "id": "4dd465ba",
   "metadata": {},
   "outputs": [],
   "source": [
    "# sum of 3 or 5 multiples to 1000"
   ]
  },
  {
   "cell_type": "code",
   "execution_count": 25,
   "id": "cb3b6ba7",
   "metadata": {
    "scrolled": false
   },
   "outputs": [
    {
     "data": {
      "text/plain": [
       "234168"
      ]
     },
     "execution_count": 25,
     "metadata": {},
     "output_type": "execute_result"
    }
   ],
   "source": [
    "sum([i for i in range(0,1001) if i % 3 == 0 or i % 5 == 0])"
   ]
  },
  {
   "cell_type": "code",
   "execution_count": null,
   "id": "c0ec2572",
   "metadata": {},
   "outputs": [],
   "source": []
  },
  {
   "cell_type": "code",
   "execution_count": 26,
   "id": "b5fa1b6e",
   "metadata": {},
   "outputs": [],
   "source": [
    "#even fibonacci"
   ]
  },
  {
   "cell_type": "code",
   "execution_count": 28,
   "id": "59d6209f",
   "metadata": {},
   "outputs": [
    {
     "ename": "SyntaxError",
     "evalue": "invalid syntax (<ipython-input-28-0d3add6aa62c>, line 3)",
     "output_type": "error",
     "traceback": [
      "\u001b[1;36m  File \u001b[1;32m\"<ipython-input-28-0d3add6aa62c>\"\u001b[1;36m, line \u001b[1;32m3\u001b[0m\n\u001b[1;33m    if i=+i % 2 == 0:\u001b[0m\n\u001b[1;37m        ^\u001b[0m\n\u001b[1;31mSyntaxError\u001b[0m\u001b[1;31m:\u001b[0m invalid syntax\n"
     ]
    }
   ],
   "source": [
    "total = 0\n",
    "for i in range(0, 4000001):\n",
    "    i+=i\n",
    "    if i=+i % 2 == 0:\n",
    "        total += i"
   ]
  },
  {
   "cell_type": "code",
   "execution_count": 46,
   "id": "2c10481d",
   "metadata": {},
   "outputs": [],
   "source": [
    "even_num = []\n",
    "a = 1\n",
    "b = 2\n",
    "c = a + b\n",
    "\n",
    "while c <= 4000000:\n",
    "    a=b\n",
    "    b=c\n",
    "    c=a+b\n",
    "    if c % 2 == 0:\n",
    "        even_num.insert(0,c)"
   ]
  },
  {
   "cell_type": "code",
   "execution_count": 47,
   "id": "da1aa8a0",
   "metadata": {},
   "outputs": [
    {
     "data": {
      "text/plain": [
       "4613730"
      ]
     },
     "execution_count": 47,
     "metadata": {},
     "output_type": "execute_result"
    }
   ],
   "source": [
    "total=sum(even_num)\n",
    "total"
   ]
  },
  {
   "cell_type": "code",
   "execution_count": 38,
   "id": "c40dfd18",
   "metadata": {},
   "outputs": [],
   "source": []
  },
  {
   "cell_type": "code",
   "execution_count": 39,
   "id": "5ebcd716",
   "metadata": {},
   "outputs": [
    {
     "data": {
      "text/plain": [
       "1"
      ]
     },
     "execution_count": 39,
     "metadata": {},
     "output_type": "execute_result"
    }
   ],
   "source": [
    "fib"
   ]
  },
  {
   "cell_type": "code",
   "execution_count": 1,
   "id": "09600785",
   "metadata": {},
   "outputs": [],
   "source": [
    "### snail map"
   ]
  },
  {
   "cell_type": "code",
   "execution_count": null,
   "id": "f29f272d",
   "metadata": {},
   "outputs": [],
   "source": [
    "def snail(array):\n",
    "    results = []\n",
    "    \n",
    "    \n",
    "    while len(array) > 0:\n",
    "        # go right\n",
    "        #add first list to results and delete\n",
    "        results += array[0]\n",
    "        del array[0]\n",
    "\n",
    "        \n",
    "        #looping through each list and appending the last item\n",
    "        #to the new result list\n",
    "        if len(array) > 0:\n",
    "            # go down\n",
    "            for i in array:\n",
    "                results += [i[-1]]\n",
    "                del i[-1]\n",
    "\n",
    "            # go left\n",
    "            #choosing the last list and reverse its order\n",
    "            if array[-1]:\n",
    "                results += array[-1][::-1]\n",
    "                del array[-1]\n",
    "\n",
    "            # go top\n",
    "            #reverse the rest of the array and add to the result list. \n",
    "            for i in reversed(array):\n",
    "                results += [i[0]]\n",
    "                del i[0]\n",
    "\n",
    "    return results"
   ]
  },
  {
   "cell_type": "code",
   "execution_count": 119,
   "id": "1d96e88d",
   "metadata": {},
   "outputs": [],
   "source": [
    "array = [[1,2,3],\n",
    "         [8,9,4],\n",
    "         [7,6,5]]"
   ]
  },
  {
   "cell_type": "code",
   "execution_count": 117,
   "id": "705b8545",
   "metadata": {},
   "outputs": [],
   "source": []
  },
  {
   "cell_type": "code",
   "execution_count": null,
   "id": "c0114234",
   "metadata": {},
   "outputs": [],
   "source": [
    "import numpy as np\n",
    "\n",
    "def snail(array):\n",
    "    m = []\n",
    "    array = np.array(array)\n",
    "    while len(array) > 0:\n",
    "        m += array[0].tolist()\n",
    "        array = np.rot90(array[1:])\n",
    "    return m"
   ]
  },
  {
   "cell_type": "code",
   "execution_count": null,
   "id": "86a289d8",
   "metadata": {},
   "outputs": [],
   "source": []
  },
  {
   "cell_type": "code",
   "execution_count": null,
   "id": "6058e071",
   "metadata": {},
   "outputs": [],
   "source": [
    "vcxz"
   ]
  },
  {
   "cell_type": "markdown",
   "id": "d0428edf",
   "metadata": {},
   "source": [
    "#### find missing element"
   ]
  },
  {
   "cell_type": "code",
   "execution_count": 41,
   "id": "df54ec57",
   "metadata": {},
   "outputs": [],
   "source": [
    "def fm(ar1, ar2):\n",
    "    for x in set(ar1):\n",
    "        if ar1.count(x) != ar2.count(x): return x"
   ]
  },
  {
   "cell_type": "code",
   "execution_count": 42,
   "id": "c4cdd64c",
   "metadata": {},
   "outputs": [],
   "source": [
    "ar1 = [3,1,1,2]\n",
    "ar2 = [3,1,2]"
   ]
  },
  {
   "cell_type": "code",
   "execution_count": 43,
   "id": "b0aac9b4",
   "metadata": {},
   "outputs": [
    {
     "data": {
      "text/plain": [
       "1"
      ]
     },
     "execution_count": 43,
     "metadata": {},
     "output_type": "execute_result"
    }
   ],
   "source": [
    "fm(ar1,ar2)"
   ]
  },
  {
   "cell_type": "code",
   "execution_count": null,
   "id": "b3768101",
   "metadata": {},
   "outputs": [],
   "source": []
  },
  {
   "cell_type": "markdown",
   "id": "168b478c",
   "metadata": {},
   "source": [
    "### return longest word"
   ]
  },
  {
   "cell_type": "code",
   "execution_count": null,
   "id": "8317064b",
   "metadata": {},
   "outputs": [],
   "source": []
  },
  {
   "cell_type": "code",
   "execution_count": 47,
   "id": "d1ed0b73",
   "metadata": {},
   "outputs": [],
   "source": [
    "words = ['simples', 'is', 'better', 'than', 'complex']"
   ]
  },
  {
   "cell_type": "code",
   "execution_count": 51,
   "id": "e6bf5a04",
   "metadata": {},
   "outputs": [],
   "source": [
    "def longest(words):\n",
    "    lw = ''\n",
    "\n",
    "    for i in words:\n",
    "        if len(i) > len(lw):\n",
    "            lw=i\n",
    "    return len(lw)"
   ]
  },
  {
   "cell_type": "code",
   "execution_count": 52,
   "id": "b0bd9ede",
   "metadata": {},
   "outputs": [
    {
     "data": {
      "text/plain": [
       "7"
      ]
     },
     "execution_count": 52,
     "metadata": {},
     "output_type": "execute_result"
    }
   ],
   "source": [
    "longest(words)"
   ]
  },
  {
   "cell_type": "code",
   "execution_count": null,
   "id": "e3ae31cd",
   "metadata": {},
   "outputs": [],
   "source": [
    "def longest(words):\n",
    "    return max(len(i) for i in words)"
   ]
  },
  {
   "cell_type": "code",
   "execution_count": null,
   "id": "aa46891c",
   "metadata": {},
   "outputs": [],
   "source": []
  },
  {
   "cell_type": "markdown",
   "id": "837c66d1",
   "metadata": {},
   "source": [
    "### help frogs reach opposite sidew\n",
    "\n",
    "seems like a puzzle for indexing"
   ]
  },
  {
   "cell_type": "code",
   "execution_count": 26,
   "id": "2595ee33",
   "metadata": {},
   "outputs": [],
   "source": [
    "def white_black_frogs(n):\n",
    "    return ''.join('j'*i+'wb'[i&1] for i in range(n))+''.join('j'*(n-i)+'bw'[(i+n)&1] for i in range(n))"
   ]
  },
  {
   "cell_type": "code",
   "execution_count": 27,
   "id": "219bc852",
   "metadata": {},
   "outputs": [
    {
     "data": {
      "text/plain": [
       "'wjbjjwjjjbjjjjwjjjjjwjjjjbjjjwjjbjw'"
      ]
     },
     "execution_count": 27,
     "metadata": {},
     "output_type": "execute_result"
    }
   ],
   "source": [
    "n=5\n",
    "white_black_frogs(n)"
   ]
  },
  {
   "cell_type": "code",
   "execution_count": null,
   "id": "c43e75f9",
   "metadata": {},
   "outputs": [],
   "source": []
  },
  {
   "cell_type": "markdown",
   "id": "5e8509d5",
   "metadata": {},
   "source": [
    "### Union of close disjoint intervals"
   ]
  },
  {
   "cell_type": "code",
   "execution_count": 1,
   "id": "2efc2e58",
   "metadata": {},
   "outputs": [],
   "source": [
    "def interval_insert (myl, interval):\n",
    "    less = [m for m in myl if m[1] < interval[0]]\n",
    "    grtr = [m for m in myl if m[0] > interval[1]]\n",
    "    mid = [m for m in myl if m not in less and m not in grtr] + [interval]\n",
    "    return less + [(min(i[0] for i in mid), max(i[1] for i in mid))] + grtr"
   ]
  },
  {
   "cell_type": "markdown",
   "id": "b84c1c3c",
   "metadata": {},
   "source": [
    "less = loops through myl and m for each items second value less than interval first value\n",
    "grtr = loops through myl and returns m for each item first value more than interval second value\n",
    "mid = in between numbers\n",
    "return less + least mid value to most mid value + greates value"
   ]
  },
  {
   "cell_type": "code",
   "execution_count": null,
   "id": "48d34ec0",
   "metadata": {},
   "outputs": [],
   "source": []
  },
  {
   "cell_type": "markdown",
   "id": "065bddc6",
   "metadata": {},
   "source": [
    "### line up"
   ]
  },
  {
   "cell_type": "code",
   "execution_count": 2,
   "id": "80772eec",
   "metadata": {},
   "outputs": [],
   "source": [
    "def line_up(hints):\n",
    "    graph = dict( (a,b) if side=='right' else (b,a) for a,_,b,_,_,side in map(str.split,hints))\n",
    "    start = (set(graph) - set(graph.values())).pop()\n",
    "    queue = []\n",
    "    while start:\n",
    "        queue.append(start)\n",
    "        start = graph.get(start)\n",
    "    return queue    "
   ]
  },
  {
   "cell_type": "code",
   "execution_count": null,
   "id": "e68df51d",
   "metadata": {},
   "outputs": [],
   "source": []
  },
  {
   "cell_type": "code",
   "execution_count": 3,
   "id": "5cb30bc6",
   "metadata": {},
   "outputs": [],
   "source": [
    "### Numerical palindrome"
   ]
  },
  {
   "cell_type": "code",
   "execution_count": null,
   "id": "c1e265bc",
   "metadata": {},
   "outputs": [],
   "source": [
    "def palindrome(num):\n",
    "    if not isinstance(num, int) or num < 0:\n",
    "        return \"Not valid\"\n",
    "    n = str(num)\n",
    "    l = len(n)\n",
    "    result = {int(n[i:j]) for i in range(l-1) for j in range(i+2, l+1) if int(n[i]) and n[i:j] == n[i:j][::-1]}\n",
    "    return sorted(result) if result else \"No palindromes found\""
   ]
  },
  {
   "cell_type": "markdown",
   "id": "330ac743",
   "metadata": {},
   "source": [
    "-isinstance(object, type): return true if specified object is of the specified type\n",
    "\n",
    "result= "
   ]
  },
  {
   "cell_type": "code",
   "execution_count": null,
   "id": "0c409ea4",
   "metadata": {},
   "outputs": [],
   "source": [
    "from typing import Union, List\n",
    "\n",
    "\n",
    "def palindrome(num: int) -> Union[str, List[int]]:\n",
    "    if not isinstance(num, int) or num < 0:\n",
    "        return \"Not valid\"\n",
    "\n",
    "    palindromes = set()\n",
    "    str_num = str(num)\n",
    "    for i in range(len(str_num) - 1):\n",
    "        if str_num[i] != '0':\n",
    "            for j in range(i + 2, len(str_num) + 1):\n",
    "                s = str_num[i:j]\n",
    "                if s == s[::-1]:\n",
    "                    palindromes.add(int(s))"
   ]
  },
  {
   "cell_type": "code",
   "execution_count": null,
   "id": "91b0aa08",
   "metadata": {},
   "outputs": [],
   "source": []
  },
  {
   "cell_type": "markdown",
   "id": "e6543b4e",
   "metadata": {},
   "source": [
    "### remove all the marked elements of a list"
   ]
  },
  {
   "cell_type": "code",
   "execution_count": null,
   "id": "75c78ebe",
   "metadata": {},
   "outputs": [],
   "source": [
    "class List(object):\n",
    "    def remove_(self, integer_list, values_list):\n",
    "        blacklist = set(values_list)\n",
    "        return [val for val in integer_list if val not in blacklist]"
   ]
  },
  {
   "cell_type": "code",
   "execution_count": 1,
   "id": "337d660e",
   "metadata": {},
   "outputs": [],
   "source": [
    "class List(object):\n",
    "    def remove_(self, integer_list, values_list):\n",
    "        return [i for i in integer_list if i not in values_list]"
   ]
  },
  {
   "cell_type": "code",
   "execution_count": null,
   "id": "016e5b4a",
   "metadata": {},
   "outputs": [],
   "source": []
  },
  {
   "cell_type": "markdown",
   "id": "d8438b68",
   "metadata": {},
   "source": [
    "### fun with list length"
   ]
  },
  {
   "cell_type": "code",
   "execution_count": null,
   "id": "e2e8034b",
   "metadata": {},
   "outputs": [],
   "source": [
    "def length(head):\n",
    "    count = 0\n",
    "    while head != None:\n",
    "        count += 1\n",
    "        head = head.next #return next item of an iterator. \n",
    "    return count"
   ]
  },
  {
   "cell_type": "code",
   "execution_count": null,
   "id": "dc8584b1",
   "metadata": {},
   "outputs": [],
   "source": []
  },
  {
   "cell_type": "markdown",
   "id": "6f37568f",
   "metadata": {},
   "source": [
    "### separating string"
   ]
  },
  {
   "cell_type": "code",
   "execution_count": 48,
   "id": "3f79b8ad",
   "metadata": {},
   "outputs": [],
   "source": [
    "st =\"Just Live Life Man\""
   ]
  },
  {
   "cell_type": "code",
   "execution_count": null,
   "id": "a77d5343",
   "metadata": {},
   "outputs": [],
   "source": [
    "#zip_longest: prints the values of iterables alternatively in sequence on \n",
    "#iterable is printed fully, the remaining values are filled by values \n",
    "#assigned to fill values parameter\n",
    "#zip_longest(iterable1, iterable2, fillval)\n",
    "\n",
    "from itertools import zip_longest\n",
    "\n",
    "\n",
    "def sep_str(st):\n",
    "    return [[*cs] for cs in zip_longest(*st.split(), fillvalue='')]"
   ]
  },
  {
   "cell_type": "code",
   "execution_count": null,
   "id": "f7f8d2a0",
   "metadata": {},
   "outputs": [],
   "source": [
    "from itertools import zip_longest\n",
    "\n",
    "def sep_str(st): \n",
    "    return list(map(list, zip_longest(*st.split(), fillvalue='')))"
   ]
  },
  {
   "cell_type": "code",
   "execution_count": null,
   "id": "e07d78fb",
   "metadata": {},
   "outputs": [],
   "source": []
  },
  {
   "cell_type": "code",
   "execution_count": 2,
   "id": "1a830463",
   "metadata": {},
   "outputs": [],
   "source": [
    "### adding matrix"
   ]
  },
  {
   "cell_type": "code",
   "execution_count": null,
   "id": "c55ba29f",
   "metadata": {},
   "outputs": [],
   "source": []
  },
  {
   "cell_type": "code",
   "execution_count": null,
   "id": "480fc330",
   "metadata": {},
   "outputs": [],
   "source": [
    "def matrix_add(a,b):\n",
    "    return [[a[i][j] + b[i][j] for j in range(len(a[0]))] for i in range(len(a))]"
   ]
  },
  {
   "cell_type": "code",
   "execution_count": null,
   "id": "a68f55f5",
   "metadata": {},
   "outputs": [],
   "source": [
    "import numpy as np\n",
    "def matrix_addition(a, b):\n",
    "    return(np.mat(a)+np.mat(b)).tolist()"
   ]
  }
 ],
 "metadata": {
  "kernelspec": {
   "display_name": "Python 3",
   "language": "python",
   "name": "python3"
  },
  "language_info": {
   "codemirror_mode": {
    "name": "ipython",
    "version": 3
   },
   "file_extension": ".py",
   "mimetype": "text/x-python",
   "name": "python",
   "nbconvert_exporter": "python",
   "pygments_lexer": "ipython3",
   "version": "3.8.8"
  }
 },
 "nbformat": 4,
 "nbformat_minor": 5
}
